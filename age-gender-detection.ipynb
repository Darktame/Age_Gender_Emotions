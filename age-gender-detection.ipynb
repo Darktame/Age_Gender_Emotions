{
 "cells": [
  {
   "cell_type": "code",
   "execution_count": 2,
   "metadata": {
    "execution": {
     "iopub.execute_input": "2025-08-08T04:10:18.409204Z",
     "iopub.status.busy": "2025-08-08T04:10:18.408876Z",
     "iopub.status.idle": "2025-08-08T04:10:18.414404Z",
     "shell.execute_reply": "2025-08-08T04:10:18.413567Z",
     "shell.execute_reply.started": "2025-08-08T04:10:18.409161Z"
    },
    "id": "sCrrJnPi2xQF",
    "trusted": true
   },
   "outputs": [],
   "source": [
    "# import all the necessary libraries\n",
    "import numpy as np \n",
    "import pandas as pd \n",
    "import os\n",
    "import matplotlib.pyplot as plt\n",
    "import seaborn as sns\n",
    "from sklearn.utils.class_weight import compute_class_weight\n",
    "import tensorflow as tf\n",
    "from tensorflow.keras.preprocessing.image import ImageDataGenerator\n",
    "from tensorflow.keras.models import Sequential,Model\n",
    "from tensorflow.keras.layers import Activation,Conv2D,MaxPooling2D,Flatten,Dense,Dropout,Input,AveragePooling2D,GlobalAveragePooling2D, GlobalMaxPooling2D,BatchNormalization,Activation\n",
    "from tensorflow.keras.optimizers import Adam,RMSprop,Adagrad,Nadam\n",
    "from tensorflow.keras.callbacks import EarlyStopping, ModelCheckpoint, ReduceLROnPlateau\n",
    "from tensorflow.keras import regularizers"
   ]
  },
  {
   "cell_type": "code",
   "execution_count": null,
   "metadata": {
    "id": "gwvw8RYpqDJ8",
    "trusted": true
   },
   "outputs": [],
   "source": [
    "\n",
    "!pip install keras-tuner"
   ]
  },
  {
   "cell_type": "code",
   "execution_count": null,
   "metadata": {
    "id": "4SbMlfaZ2xQK",
    "trusted": true
   },
   "outputs": [],
   "source": [
    "# fetch the age and gender dataset\n",
    "utk_face_dir='/kaggle/input/utkface-new/UTKFace'\n",
    "ages=[]\n",
    "genders=[]\n",
    "for filename in os.listdir(utk_face_dir):\n",
    "    if filename.endswith('.jpg') and '_' in filename:\n",
    "       if len(filename.split('_')) >= 2 and filename.split('_')[0].isdigit() and filename.split('_')[1].isdigit():\n",
    "          age=int(filename.split('_')[0])\n",
    "          gender=int(filename.split('_')[1])\n",
    "          # path=os.path.join(utk_face_dir,filename)\n",
    "          # image=tf.io.read_file(path)\n",
    "          # image=tf.image.decode_jpeg(image,channels=3)\n",
    "          # image=tf.image.resize(image,[128,128])\n",
    "          # image=image/255.0\n",
    "          # images.append(image.numpy())\n",
    "          ages.append(age)\n",
    "          genders.append(gender)\n"
   ]
  },
  {
   "cell_type": "code",
   "execution_count": null,
   "metadata": {
    "id": "fVQc2Wmh2xQK",
    "outputId": "a41ad6d1-a9af-42e5-971a-b61cbc9559a7",
    "trusted": true
   },
   "outputs": [],
   "source": [
    "# make the dataframe\n",
    "df_utk=pd.DataFrame(\n",
    "  {  \"Age\" : ages,\n",
    "    \"Gender\": genders}\n",
    ")\n",
    "df_utk.head()\n",
    "\n"
   ]
  },
  {
   "cell_type": "code",
   "execution_count": null,
   "metadata": {
    "id": "RmtZfgnD2xQK",
    "trusted": true
   },
   "outputs": [],
   "source": [
    "df_utk=df_utk[df_utk[\"Gender\"].isin([0,1])]"
   ]
  },
  {
   "cell_type": "code",
   "execution_count": null,
   "metadata": {
    "id": "6ItwNMkv2xQK",
    "outputId": "2a01524e-e615-4e99-ad89-1cc3ef015830",
    "trusted": true
   },
   "outputs": [],
   "source": [
    "plt.figure(figsize=(5,5))\n",
    "sns.histplot(df_utk[\"Age\"],bins=30,kde=True)\n",
    "plt.title(\"Age Distribution\")\n",
    "plt.xlabel(\"Age\")\n",
    "plt.ylabel(\"Count\")\n",
    "plt.show()"
   ]
  },
  {
   "cell_type": "code",
   "execution_count": null,
   "metadata": {
    "id": "Gq2tmPjP2xQK",
    "outputId": "8e15bda3-e250-417d-b1a9-b034268bcaf7",
    "trusted": true
   },
   "outputs": [],
   "source": [
    "df_utk.describe()\n"
   ]
  },
  {
   "cell_type": "code",
   "execution_count": null,
   "metadata": {
    "id": "Zkq2IktE2xQK",
    "outputId": "cd3b4de5-e0cc-4fb1-d071-c0c092cef8cc",
    "trusted": true
   },
   "outputs": [],
   "source": [
    "plt.figure(figsize=(5,5))\n",
    "sns.boxplot(df_utk[\"Age\"])\n",
    "plt.show()"
   ]
  },
  {
   "cell_type": "code",
   "execution_count": null,
   "metadata": {
    "id": "GtthymZx2xQK",
    "outputId": "fd499869-cc6d-4b09-8c4a-f62b1ad3382d",
    "trusted": true
   },
   "outputs": [],
   "source": [
    "plt.figure(figsize=(5,5))\n",
    "sns.countplot(x=\"Gender\",data=df_utk)\n",
    "plt.title(\"Gender Distribution\")\n",
    "plt.show()"
   ]
  },
  {
   "cell_type": "code",
   "execution_count": null,
   "metadata": {
    "id": "2mIT5Noh2xQK",
    "outputId": "92305b44-8c05-4ac9-bce0-1eca38150f0f",
    "trusted": true
   },
   "outputs": [],
   "source": [
    "print(df_utk[\"Gender\"].value_counts())"
   ]
  },
  {
   "cell_type": "code",
   "execution_count": null,
   "metadata": {
    "id": "G6UOz3mH2xQK",
    "outputId": "cf3e98b1-1ac0-4522-9ffe-6a82b48445d7",
    "trusted": true
   },
   "outputs": [],
   "source": [
    "df_utk[\"Gender\"].value_counts().plot(\n",
    "    kind=\"pie\",\n",
    "    labels=[\"Male\",\"Female\"],\n",
    "    autopct=\"%1.1f%%\"\n",
    ")"
   ]
  },
  {
   "cell_type": "code",
   "execution_count": null,
   "metadata": {
    "id": "TYkSu2D42xQK",
    "outputId": "2e45eaea-2b20-4a8a-8c9e-00b1f4aa9eea",
    "trusted": true
   },
   "outputs": [],
   "source": [
    "df_utk.groupby(\"Gender\")[\"Age\"].apply(lambda x: x.mode().iloc[0])"
   ]
  },
  {
   "cell_type": "code",
   "execution_count": null,
   "metadata": {
    "id": "su1fbrEtpXt9",
    "trusted": true
   },
   "outputs": [],
   "source": [
    "#  use the age below 80\n",
    "valid_filenames = []\n",
    "for filename in os.listdir(utk_face_dir):\n",
    "    if filename.endswith('.jpg') and '_' in filename:\n",
    "        parts = filename.split('_')\n",
    "        if len(parts) >= 2 and parts[0].isdigit() and parts[1].isdigit():\n",
    "            age=int(parts[0])\n",
    "            if age<=80:\n",
    "               valid_filenames.append(os.path.join(utk_face_dir, filename))\n",
    "\n",
    "def parse_image(filename):\n",
    "    # Get last part of path (filename)\n",
    "    parts = tf.strings.split(filename, '/')[-1]\n",
    "    fields = tf.strings.split(parts, '_')\n",
    "\n",
    "    # Extract labels\n",
    "    age = tf.strings.to_number(fields[0], tf.int32)\n",
    "    gender = tf.strings.to_number(fields[1], tf.int32)\n",
    "\n",
    "    # Decode and preprocess image\n",
    "    image = tf.io.read_file(filename)\n",
    "    image = tf.image.decode_jpeg(image, channels=3)\n",
    "    image = tf.image.resize(image, [128, 128])\n",
    "    image = tf.cast(image, tf.float32) / 255.0\n",
    "\n",
    "    return image, {'age': age, 'gender': gender}\n",
    "\n"
   ]
  },
  {
   "cell_type": "code",
   "execution_count": null,
   "metadata": {
    "id": "07m4-gUZpXt9",
    "trusted": true
   },
   "outputs": [],
   "source": [
    "# split of the data in train and validation in equal proportion of male and female\n",
    "import random\n",
    "female_files = [f for f in valid_filenames if os.path.basename(f).split('_')[1] == '0']\n",
    "male_files   = [f for f in valid_filenames if os.path.basename(f).split('_')[1] == '1']\n",
    "\n",
    "random.seed(42)\n",
    "random.shuffle (female_files)\n",
    "random.shuffle(male_files)\n",
    "\n",
    "\n",
    "f_split = int(0.8 * len(female_files))\n",
    "m_split = int(0.8 * len(male_files))\n",
    "\n",
    "female_train = female_files[:f_split]\n",
    "female_val   = female_files[f_split:]\n",
    "male_train   = male_files[:m_split]\n",
    "male_val     = male_files[m_split:]\n",
    "\n",
    "\n",
    "train_filenames = female_train + male_train\n",
    "val_filenames   = female_val   + male_val\n",
    "\n",
    "\n",
    "random.shuffle(train_filenames)\n",
    "random.shuffle(val_filenames)"
   ]
  },
  {
   "cell_type": "code",
   "execution_count": null,
   "metadata": {
    "trusted": true
   },
   "outputs": [],
   "source": [
    "train_ds = tf.data.Dataset.from_tensor_slices(train_filenames)\n",
    "train_ds = train_ds.map(parse_image, num_parallel_calls=tf.data.AUTOTUNE)\n",
    "train_ds = train_ds.shuffle(1000,seed=42).batch(32).prefetch(tf.data.AUTOTUNE)\n",
    "\n",
    "val_ds = tf.data.Dataset.from_tensor_slices(val_filenames)\n",
    "val_ds = val_ds.map(parse_image, num_parallel_calls=tf.data.AUTOTUNE)\n",
    "val_ds = val_ds.batch(32).prefetch(tf.data.AUTOTUNE)"
   ]
  },
  {
   "cell_type": "code",
   "execution_count": null,
   "metadata": {
    "id": "Oh-_gZXrqDKI",
    "outputId": "642131f0-14ab-466c-d91b-5f8efb0243fd",
    "trusted": true
   },
   "outputs": [],
   "source": [
    "# transfer learning via ResNet152V2\n",
    "from tensorflow.keras.applications import ResNet152V2\n",
    "base_model=ResNet152V2(input_shape=(128,128,3),\n",
    "                      include_top=False,\n",
    "                      weights='imagenet')\n",
    "base_model.trainable=False\n",
    "inputs = Input(shape=(128,128,3))\n",
    "x = base_model(inputs)\n",
    "x = GlobalAveragePooling2D()(x)\n",
    "x=Dense(1024, activation='relu',kernel_initializer='he_normal',kernel_regularizer=regularizers.l2(0.001))(x)\n",
    "x=BatchNormalization()(x)\n",
    "x=Dropout(0.5)(x)\n",
    "x=Dense(2048, activation='relu',kernel_initializer='he_normal',kernel_regularizer=regularizers.l2(0.001))(x)\n",
    "age_output = Dense(1, name='age')(x)                            # Regression\n",
    "gender_output = Dense(1, activation='sigmoid', name='gender')(x)  # Binary classification\n",
    "\n",
    "model = Model(inputs=inputs, outputs=[age_output, gender_output])\n",
    "model.compile(\n",
    "    optimizer=Adam(learning_rate=1e-3),\n",
    "    loss={'age': 'mse', 'gender': 'binary_crossentropy'},\n",
    "    metrics={'age': 'mae', 'gender': 'accuracy'}\n",
    ")"
   ]
  },
  {
   "cell_type": "code",
   "execution_count": null,
   "metadata": {
    "id": "wYcIwIs5KqZN",
    "trusted": true
   },
   "outputs": [],
   "source": [
    "callbacks=[EarlyStopping(\n",
    "        monitor='val_gender_accuracy',\n",
    "        mode='max',\n",
    "        patience=3,\n",
    "        restore_best_weights=True,\n",
    "        verbose=1\n",
    "    ),\n",
    "    ModelCheckpoint(\n",
    "        filepath='/kaggle/working/keras_tuner/age_gender_transfer_learning.h5',\n",
    "        monitor='val_gender_accuracy',\n",
    "        save_best_only=True,\n",
    "        verbose=1\n",
    "    ),\n",
    "    ReduceLROnPlateau(\n",
    "        monitor='val_gender_accuracy',\n",
    "        factor=0.2,\n",
    "        patience=3,\n",
    "        min_lr=1e-6,\n",
    "        verbose=1\n",
    "    )\n",
    " ]"
   ]
  },
  {
   "cell_type": "code",
   "execution_count": null,
   "metadata": {
    "id": "tww1rK-3pXt9",
    "outputId": "544f4848-c09a-49cf-b654-fde302e17911",
    "trusted": true
   },
   "outputs": [],
   "source": [
    "history = model.fit(\n",
    "    train_ds,\n",
    "    validation_data=val_ds,\n",
    "    epochs=50,\n",
    "    callbacks=callbacks\n",
    ")"
   ]
  },
  {
   "cell_type": "code",
   "execution_count": null,
   "metadata": {
    "id": "Vr3JywPP2xQK",
    "trusted": true
   },
   "outputs": [],
   "source": [
    "# HyperParameter Tuning \n",
    "import keras_tuner as kt\n",
    "def build_model(hp):\n",
    "    # model=Sequential()\n",
    "    input_layer=Input(shape=(128,128,3))\n",
    "    x=input_layer\n",
    "    #Tune the number of conv layers\n",
    "    for i in range (6):\n",
    "        # Tune filters\n",
    "      if i == 0:\n",
    "        filters = hp.Int(f\"filters_{i}\", min_value=32, max_value=64, step=32)\n",
    "      elif i == 1:\n",
    "        filters = hp.Int(f\"filters_{i}\", min_value=64, max_value=128, step=64)\n",
    "      elif i == 2:\n",
    "        filters = hp.Int(f\"filters_{i}\", min_value=128, max_value=512, step=128)\n",
    "      else:\n",
    "        filters = hp.Int(f\"filters_{i}\", min_value=256, max_value=512, step=128)\n",
    "        # Tune the padding layer\n",
    "      padding=hp.Choice(f\"padding_{i}\",[\"same\"])\n",
    "        # Tune strides\n",
    "        # stride = hp.Choice(f'strides_{i}', [1, 2])\n",
    "        # Tune activation\n",
    "      activation = 'relu'\n",
    "      x=Conv2D(\n",
    "            filters=filters,\n",
    "            kernel_size=(3,3),\n",
    "            padding=padding,\n",
    "            activation='relu',\n",
    "            kernel_initializer='he_normal',\n",
    "            kernel_regularizer=regularizers.l2(0.0005)\n",
    "\n",
    "        )(x)\n",
    "        # Add pooling layer\n",
    "      if hp.Choice(f\"Pooling_{i}\",[\"max\",\"avg\"])==\"max\":\n",
    "              x=MaxPooling2D(pool_size=(2,2))(x)\n",
    "      else:\n",
    "              x=AveragePooling2D(pool_size=(2,2))(x)\n",
    "      x=BatchNormalization()(x)\n",
    "      x=(Dropout(hp.Float(\"dropout1\", 0.2, 0.5, step=0.1)))(x)\n",
    "    x=Flatten()(x)\n",
    "    x = Dense(1024, activation='relu',kernel_initializer='he_normal',kernel_regularizer=regularizers.l2(0.0005))(x)\n",
    "    x=BatchNormalization()(x)\n",
    "    x = Dropout(0.25)(x)\n",
    "    x = Dense(2048, activation='relu',kernel_initializer='he_normal',kernel_regularizer=regularizers.l2(0.0005))(x)\n",
    "    x=BatchNormalization()(x)\n",
    "    x = Dropout(0.24)(x)\n",
    "    age_output = Dense(1, name='age',kernel_regularizer=regularizers.l2(0.0005),kernel_initializer=\"glorot_uniform\")(x)                            # Regression\n",
    "    gender_output = Dense(1, activation='sigmoid', name='gender',kernel_regularizer=regularizers.l2(0.0005),kernel_initializer=\"glorot_uniform\")(x)  # Binary classification\n",
    "\n",
    "\n",
    "# Final model\n",
    "    model = Model(inputs=input_layer, outputs=[age_output, gender_output])\n",
    "    model.compile(\n",
    "    optimizer=Nadam(learning_rate=1e-3),\n",
    "    loss={ 'age': 'mse', 'gender': 'binary_crossentropy'},\n",
    "    metrics={'age': 'mae', 'gender': 'accuracy'}\n",
    ")\n",
    "\n",
    "    return model"
   ]
  },
  {
   "cell_type": "code",
   "execution_count": null,
   "metadata": {
    "id": "vsB1sXRAG-L-",
    "trusted": true
   },
   "outputs": [],
   "source": [
    "callbacks=[EarlyStopping(\n",
    "        monitor='val_gender_accuracy',\n",
    "        mode='max',\n",
    "        patience=3,\n",
    "        restore_best_weights=True,\n",
    "        verbose=1\n",
    "    ),\n",
    "    ModelCheckpoint(\n",
    "        filepath='/kaggle/working/age_gender_detection.h5',\n",
    "        save_weights_only=False,\n",
    "        monitor='val_gender_accuracy',\n",
    "        save_best_only=True,\n",
    "        verbose=1\n",
    "    ),\n",
    "    ReduceLROnPlateau(\n",
    "        monitor='val_gender_accuracy',\n",
    "        factor=0.2,\n",
    "        patience=3,\n",
    "        min_lr=1e-6,\n",
    "        verbose=1\n",
    "    )\n",
    "]"
   ]
  },
  {
   "cell_type": "code",
   "execution_count": null,
   "metadata": {
    "id": "4pODp-DT2xQK",
    "trusted": true
   },
   "outputs": [],
   "source": [
    "from keras_tuner import RandomSearch,Objective\n",
    "tuner=kt.RandomSearch(\n",
    "    build_model,\n",
    "    objective=Objective(\"val_gender_accuracy\",direction='max'),\n",
    "    max_trials=10,\n",
    "    directory='/kaggle/working/keras_tuner',\n",
    "    project_name='age_gender',\n",
    "    overwrite=False\n",
    "\n",
    ")"
   ]
  },
  {
   "cell_type": "code",
   "execution_count": null,
   "metadata": {
    "id": "4SXFMnwyEBGT",
    "outputId": "396e3c6f-35ab-424b-aab3-52679131f29e",
    "trusted": true
   },
   "outputs": [],
   "source": [
    "tuner.search(\n",
    "   train_ds,\n",
    "   validation_data=val_ds,\n",
    "   epochs=25,\n",
    "   callbacks=callbacks,\n",
    "   verbose=1\n",
    "            )"
   ]
  },
  {
   "cell_type": "code",
   "execution_count": null,
   "metadata": {
    "id": "HbNLxS5_2xQK",
    "outputId": "11ad40ab-a233-4928-eb34-a14798a8abbd",
    "trusted": true
   },
   "outputs": [],
   "source": [
    "best_model = tuner.get_best_models(num_models=1)[0]\n",
    "best_model.save('/kaggle/working/keras_tuner/project/age_gender_best_model.h5')"
   ]
  }
 ],
 "metadata": {
  "accelerator": "GPU",
  "colab": {
   "gpuType": "T4",
   "provenance": []
  },
  "kaggle": {
   "accelerator": "gpu",
   "dataSources": [
    {
     "datasetId": 44109,
     "isSourceIdPinned": false,
     "sourceId": 78156,
     "sourceType": "datasetVersion"
    }
   ],
   "dockerImageVersionId": 31089,
   "isGpuEnabled": true,
   "isInternetEnabled": true,
   "language": "python",
   "sourceType": "notebook"
  },
  "kernelspec": {
   "display_name": "Python 3",
   "language": "python",
   "name": "python3"
  },
  "language_info": {
   "codemirror_mode": {
    "name": "ipython",
    "version": 3
   },
   "file_extension": ".py",
   "mimetype": "text/x-python",
   "name": "python",
   "nbconvert_exporter": "python",
   "pygments_lexer": "ipython3",
   "version": "3.11.13"
  }
 },
 "nbformat": 4,
 "nbformat_minor": 4
}
